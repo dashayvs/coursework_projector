{
 "cells": [
  {
   "cell_type": "code",
   "id": "initial_id",
   "metadata": {
    "collapsed": true,
    "ExecuteTime": {
     "end_time": "2024-07-20T16:56:43.695083Z",
     "start_time": "2024-07-20T16:56:43.289189Z"
    }
   },
   "source": [
    "import pandas as pd\n",
    "\n",
    "data = pd.read_csv(\"D:\\\\recipe_recomendation\\\\data\\\\train_data_text_url.csv\").iloc[:10, :2]\n",
    "data"
   ],
   "outputs": [
    {
     "data": {
      "text/plain": [
       "                                          Directions  \\\n",
       "0  Step 1: Preheat the oven to 375 degrees F (190...   \n",
       "1  Step 1: Preheat oven to 350 degrees F (175 deg...   \n",
       "2  Step 1: Combine green beans, lima beans, red b...   \n",
       "3  Step 1: Process cranberries and orange in a fo...   \n",
       "4  Step 1: Mix together poppy seeds, sesame seeds...   \n",
       "5  Step 1: Bring milk, salt, cayenne, mustard, nu...   \n",
       "6  Step 1: Place steak between two pieces of plas...   \n",
       "7  Step 1: Butter a 10x15-inch baking sheet or li...   \n",
       "8  Step 1: Gather all ingredients. Step 2: Combin...   \n",
       "9  Step 1: Bring a large pot of lightly salted wa...   \n",
       "\n",
       "                                                Ingr  \n",
       "0  olive oil, brown mushrooms, sliced, kosher sal...  \n",
       "1  brown sugar, white sugar, oats, all-purpose fl...  \n",
       "2  frozen cut green beans, frozen lima beans, dra...  \n",
       "3  fresh cranberries, orange, peeled, boiling wat...  \n",
       "4  poppy seeds, sesame seeds, dried minced garlic...  \n",
       "5  whole milk, kosher salt, or more to taste, cay...  \n",
       "6  top sirloin steak, salt and freshly ground bla...  \n",
       "7  cooking spray, white sugar, light corn syrup, ...  \n",
       "8  ground Italian sausage, red pepper flakes, whi...  \n",
       "9  fusilli pasta, olive oil, shallot, minced, oil...  "
      ],
      "text/html": [
       "<div>\n",
       "<style scoped>\n",
       "    .dataframe tbody tr th:only-of-type {\n",
       "        vertical-align: middle;\n",
       "    }\n",
       "\n",
       "    .dataframe tbody tr th {\n",
       "        vertical-align: top;\n",
       "    }\n",
       "\n",
       "    .dataframe thead th {\n",
       "        text-align: right;\n",
       "    }\n",
       "</style>\n",
       "<table border=\"1\" class=\"dataframe\">\n",
       "  <thead>\n",
       "    <tr style=\"text-align: right;\">\n",
       "      <th></th>\n",
       "      <th>Directions</th>\n",
       "      <th>Ingr</th>\n",
       "    </tr>\n",
       "  </thead>\n",
       "  <tbody>\n",
       "    <tr>\n",
       "      <th>0</th>\n",
       "      <td>Step 1: Preheat the oven to 375 degrees F (190...</td>\n",
       "      <td>olive oil, brown mushrooms, sliced, kosher sal...</td>\n",
       "    </tr>\n",
       "    <tr>\n",
       "      <th>1</th>\n",
       "      <td>Step 1: Preheat oven to 350 degrees F (175 deg...</td>\n",
       "      <td>brown sugar, white sugar, oats, all-purpose fl...</td>\n",
       "    </tr>\n",
       "    <tr>\n",
       "      <th>2</th>\n",
       "      <td>Step 1: Combine green beans, lima beans, red b...</td>\n",
       "      <td>frozen cut green beans, frozen lima beans, dra...</td>\n",
       "    </tr>\n",
       "    <tr>\n",
       "      <th>3</th>\n",
       "      <td>Step 1: Process cranberries and orange in a fo...</td>\n",
       "      <td>fresh cranberries, orange, peeled, boiling wat...</td>\n",
       "    </tr>\n",
       "    <tr>\n",
       "      <th>4</th>\n",
       "      <td>Step 1: Mix together poppy seeds, sesame seeds...</td>\n",
       "      <td>poppy seeds, sesame seeds, dried minced garlic...</td>\n",
       "    </tr>\n",
       "    <tr>\n",
       "      <th>5</th>\n",
       "      <td>Step 1: Bring milk, salt, cayenne, mustard, nu...</td>\n",
       "      <td>whole milk, kosher salt, or more to taste, cay...</td>\n",
       "    </tr>\n",
       "    <tr>\n",
       "      <th>6</th>\n",
       "      <td>Step 1: Place steak between two pieces of plas...</td>\n",
       "      <td>top sirloin steak, salt and freshly ground bla...</td>\n",
       "    </tr>\n",
       "    <tr>\n",
       "      <th>7</th>\n",
       "      <td>Step 1: Butter a 10x15-inch baking sheet or li...</td>\n",
       "      <td>cooking spray, white sugar, light corn syrup, ...</td>\n",
       "    </tr>\n",
       "    <tr>\n",
       "      <th>8</th>\n",
       "      <td>Step 1: Gather all ingredients. Step 2: Combin...</td>\n",
       "      <td>ground Italian sausage, red pepper flakes, whi...</td>\n",
       "    </tr>\n",
       "    <tr>\n",
       "      <th>9</th>\n",
       "      <td>Step 1: Bring a large pot of lightly salted wa...</td>\n",
       "      <td>fusilli pasta, olive oil, shallot, minced, oil...</td>\n",
       "    </tr>\n",
       "  </tbody>\n",
       "</table>\n",
       "</div>"
      ]
     },
     "execution_count": 5,
     "metadata": {},
     "output_type": "execute_result"
    }
   ],
   "execution_count": 5
  },
  {
   "metadata": {
    "ExecuteTime": {
     "end_time": "2024-07-20T17:26:16.429127Z",
     "start_time": "2024-07-20T17:26:16.423122Z"
    }
   },
   "cell_type": "code",
   "source": [
    "text_features = [data[col].values for col in data.columns]\n",
    "type(text_features)"
   ],
   "id": "d570fb81d56e5450",
   "outputs": [
    {
     "data": {
      "text/plain": [
       "list"
      ]
     },
     "execution_count": 66,
     "metadata": {},
     "output_type": "execute_result"
    }
   ],
   "execution_count": 66
  },
  {
   "metadata": {
    "ExecuteTime": {
     "end_time": "2024-07-20T17:09:48.099195Z",
     "start_time": "2024-07-20T17:09:26.458037Z"
    }
   },
   "cell_type": "code",
   "source": [
    "from sentence_transformers import SentenceTransformer\n",
    "\n",
    "model = SentenceTransformer(\"sentence-transformers/all-MiniLM-L6-v2\")"
   ],
   "id": "542aca8a7113132d",
   "outputs": [
    {
     "name": "stderr",
     "output_type": "stream",
     "text": [
      "D:\\python\\miniforge3\\envs\\recipe_env\\Lib\\site-packages\\sentence_transformers\\cross_encoder\\CrossEncoder.py:11: TqdmExperimentalWarning: Using `tqdm.autonotebook.tqdm` in notebook mode. Use `tqdm.tqdm` instead to force console mode (e.g. in jupyter console)\n",
      "  from tqdm.autonotebook import tqdm, trange\n"
     ]
    },
    {
     "data": {
      "text/plain": [
       "modules.json:   0%|          | 0.00/349 [00:00<?, ?B/s]"
      ],
      "application/vnd.jupyter.widget-view+json": {
       "version_major": 2,
       "version_minor": 0,
       "model_id": "738c892448064b76bbb70525846e8798"
      }
     },
     "metadata": {},
     "output_type": "display_data"
    },
    {
     "name": "stderr",
     "output_type": "stream",
     "text": [
      "D:\\python\\miniforge3\\envs\\recipe_env\\Lib\\site-packages\\huggingface_hub\\file_download.py:157: UserWarning: `huggingface_hub` cache-system uses symlinks by default to efficiently store duplicated files but your machine does not support them in C:\\Users\\lenovo\\.cache\\huggingface\\hub\\models--sentence-transformers--all-MiniLM-L6-v2. Caching files will still work but in a degraded version that might require more space on your disk. This warning can be disabled by setting the `HF_HUB_DISABLE_SYMLINKS_WARNING` environment variable. For more details, see https://huggingface.co/docs/huggingface_hub/how-to-cache#limitations.\n",
      "To support symlinks on Windows, you either need to activate Developer Mode or to run Python as an administrator. In order to see activate developer mode, see this article: https://docs.microsoft.com/en-us/windows/apps/get-started/enable-your-device-for-development\n",
      "  warnings.warn(message)\n"
     ]
    },
    {
     "data": {
      "text/plain": [
       "config_sentence_transformers.json:   0%|          | 0.00/116 [00:00<?, ?B/s]"
      ],
      "application/vnd.jupyter.widget-view+json": {
       "version_major": 2,
       "version_minor": 0,
       "model_id": "d4b68efbf33c4a45ac8cb1097f5926a9"
      }
     },
     "metadata": {},
     "output_type": "display_data"
    },
    {
     "data": {
      "text/plain": [
       "README.md:   0%|          | 0.00/10.7k [00:00<?, ?B/s]"
      ],
      "application/vnd.jupyter.widget-view+json": {
       "version_major": 2,
       "version_minor": 0,
       "model_id": "a8c2bea88acc4cbb9e406e22e4e0d36b"
      }
     },
     "metadata": {},
     "output_type": "display_data"
    },
    {
     "data": {
      "text/plain": [
       "sentence_bert_config.json:   0%|          | 0.00/53.0 [00:00<?, ?B/s]"
      ],
      "application/vnd.jupyter.widget-view+json": {
       "version_major": 2,
       "version_minor": 0,
       "model_id": "d849cf417cd34921a2a29d8f9fac76bc"
      }
     },
     "metadata": {},
     "output_type": "display_data"
    },
    {
     "name": "stderr",
     "output_type": "stream",
     "text": [
      "D:\\python\\miniforge3\\envs\\recipe_env\\Lib\\site-packages\\huggingface_hub\\file_download.py:1132: FutureWarning: `resume_download` is deprecated and will be removed in version 1.0.0. Downloads always resume when possible. If you want to force a new download, use `force_download=True`.\n",
      "  warnings.warn(\n"
     ]
    },
    {
     "data": {
      "text/plain": [
       "config.json:   0%|          | 0.00/612 [00:00<?, ?B/s]"
      ],
      "application/vnd.jupyter.widget-view+json": {
       "version_major": 2,
       "version_minor": 0,
       "model_id": "7d70030b51384cfe8ed37c07f452575d"
      }
     },
     "metadata": {},
     "output_type": "display_data"
    },
    {
     "data": {
      "text/plain": [
       "model.safetensors:   0%|          | 0.00/90.9M [00:00<?, ?B/s]"
      ],
      "application/vnd.jupyter.widget-view+json": {
       "version_major": 2,
       "version_minor": 0,
       "model_id": "ec93b47e07604166a50b636dbf41fa55"
      }
     },
     "metadata": {},
     "output_type": "display_data"
    },
    {
     "data": {
      "text/plain": [
       "tokenizer_config.json:   0%|          | 0.00/350 [00:00<?, ?B/s]"
      ],
      "application/vnd.jupyter.widget-view+json": {
       "version_major": 2,
       "version_minor": 0,
       "model_id": "c7a770bc0b9f42039d4aba7e576cc871"
      }
     },
     "metadata": {},
     "output_type": "display_data"
    },
    {
     "data": {
      "text/plain": [
       "vocab.txt:   0%|          | 0.00/232k [00:00<?, ?B/s]"
      ],
      "application/vnd.jupyter.widget-view+json": {
       "version_major": 2,
       "version_minor": 0,
       "model_id": "ec143be7b3294b6ebae59ed69a7dd459"
      }
     },
     "metadata": {},
     "output_type": "display_data"
    },
    {
     "data": {
      "text/plain": [
       "tokenizer.json:   0%|          | 0.00/466k [00:00<?, ?B/s]"
      ],
      "application/vnd.jupyter.widget-view+json": {
       "version_major": 2,
       "version_minor": 0,
       "model_id": "662a09ccd5c84ab7a3427f5b0f89cd16"
      }
     },
     "metadata": {},
     "output_type": "display_data"
    },
    {
     "data": {
      "text/plain": [
       "special_tokens_map.json:   0%|          | 0.00/112 [00:00<?, ?B/s]"
      ],
      "application/vnd.jupyter.widget-view+json": {
       "version_major": 2,
       "version_minor": 0,
       "model_id": "7f200e286302410695d6543605356251"
      }
     },
     "metadata": {},
     "output_type": "display_data"
    },
    {
     "data": {
      "text/plain": [
       "1_Pooling/config.json:   0%|          | 0.00/190 [00:00<?, ?B/s]"
      ],
      "application/vnd.jupyter.widget-view+json": {
       "version_major": 2,
       "version_minor": 0,
       "model_id": "468029ff96bf49cfb3ceda1df9347538"
      }
     },
     "metadata": {},
     "output_type": "display_data"
    }
   ],
   "execution_count": 22
  },
  {
   "metadata": {
    "ExecuteTime": {
     "end_time": "2024-07-20T17:23:55.569960Z",
     "start_time": "2024-07-20T17:23:55.554644Z"
    }
   },
   "cell_type": "code",
   "source": "text_features = [data[col].values.flatten() for col in data.columns]",
   "id": "c4494cd315228d13",
   "outputs": [],
   "execution_count": 48
  },
  {
   "metadata": {
    "ExecuteTime": {
     "end_time": "2024-07-20T17:23:57.113024Z",
     "start_time": "2024-07-20T17:23:56.127159Z"
    }
   },
   "cell_type": "code",
   "source": [
    "import torch\n",
    "from typing import cast\n",
    "\n",
    "device = \"cuda:0\" if torch.cuda.is_available() else \"cpu\"\n",
    "\n",
    "vectors = [\n",
    "    cast(torch.Tensor, model.encode(text_feature, convert_to_tensor=True, device=device))\n",
    "    for text_feature in text_features\n",
    "]"
   ],
   "id": "4ad5d4c4442980af",
   "outputs": [],
   "execution_count": 49
  },
  {
   "metadata": {
    "ExecuteTime": {
     "end_time": "2024-07-20T17:31:50.150938Z",
     "start_time": "2024-07-20T17:31:50.130849Z"
    }
   },
   "cell_type": "code",
   "source": "vectors[0][1]",
   "id": "43f4496f05677e75",
   "outputs": [
    {
     "data": {
      "text/plain": [
       "tensor([ 6.2585e-03, -1.9084e-02, -1.7517e-02, -8.0408e-03, -9.1760e-02,\n",
       "        -3.2077e-02, -5.4887e-02, -2.5700e-02, -3.4451e-02, -1.0839e-03,\n",
       "        -7.7690e-02, -6.8826e-02,  2.4129e-02, -1.0992e-01,  4.4168e-02,\n",
       "        -1.3900e-02,  6.9635e-02, -5.2270e-02, -2.4013e-02, -6.6046e-02,\n",
       "         1.9364e-02, -5.1413e-02,  1.8888e-02, -6.4260e-03,  5.5707e-03,\n",
       "        -5.2791e-02,  6.8351e-03,  2.5850e-02, -6.3785e-02,  3.1902e-02,\n",
       "         1.0667e-01, -4.7780e-02,  1.6066e-03,  2.0933e-03, -7.4973e-02,\n",
       "        -4.4983e-02,  1.9888e-02, -3.3910e-02,  5.0635e-02, -7.2612e-04,\n",
       "         4.2687e-02,  7.2253e-02, -1.3425e-02,  2.8893e-02, -1.1075e-02,\n",
       "        -7.6155e-03,  1.9015e-02, -2.1297e-02,  1.0938e-02, -9.0370e-03,\n",
       "        -5.0641e-02,  1.8106e-02, -7.5403e-02,  3.1589e-02, -3.3078e-02,\n",
       "         8.2667e-02, -9.8954e-02, -1.6670e-02,  2.5009e-02,  5.8072e-02,\n",
       "        -4.5695e-02,  4.6859e-02, -5.3972e-03, -3.9646e-02,  2.8359e-02,\n",
       "        -6.8682e-02, -9.9028e-02,  4.2322e-02,  9.6444e-03,  9.2587e-02,\n",
       "        -2.2016e-02,  6.2700e-02, -1.8654e-02, -1.8562e-02, -8.9340e-04,\n",
       "        -4.0212e-02,  3.6643e-02,  3.9128e-02, -6.5567e-02, -8.9008e-03,\n",
       "        -6.4859e-02, -5.1618e-03,  5.0008e-02,  9.0214e-02, -5.7970e-02,\n",
       "         3.9089e-02,  5.5294e-02,  3.0237e-02,  5.0340e-02, -2.6423e-02,\n",
       "         1.0021e-01,  3.4556e-03, -5.4665e-02,  5.6533e-02, -3.8373e-02,\n",
       "        -2.8005e-02,  4.8939e-02, -9.4922e-02,  1.7902e-02,  3.1802e-03,\n",
       "        -6.5195e-02, -6.3495e-02,  1.3810e-02, -2.6147e-02, -4.4234e-02,\n",
       "         2.8036e-02,  4.8603e-02,  6.1927e-02,  4.6760e-02,  1.1605e-02,\n",
       "         5.2334e-02,  1.3965e-02,  3.1762e-02, -3.3185e-02, -2.8670e-02,\n",
       "         4.3671e-02, -2.6520e-02,  2.6846e-03,  7.9606e-03, -7.8275e-02,\n",
       "         4.0075e-02,  2.9744e-02,  2.8298e-02,  1.4795e-02, -8.4631e-02,\n",
       "        -2.6768e-02,  4.1169e-03,  7.1742e-33,  4.2144e-02,  2.4288e-02,\n",
       "         5.9232e-02,  7.7392e-03,  2.5139e-02,  1.2819e-03, -5.2364e-02,\n",
       "         2.6872e-02,  3.7935e-02,  2.5813e-02,  1.2267e-04, -2.3380e-02,\n",
       "        -4.9775e-02,  1.3339e-02, -8.0182e-02, -9.5056e-02, -2.4146e-02,\n",
       "         1.3343e-02, -9.1654e-03,  5.9731e-02, -3.5484e-02, -3.6085e-02,\n",
       "        -3.9404e-02,  5.4244e-03, -1.0687e-01,  4.8015e-02, -2.2008e-03,\n",
       "         1.8063e-02, -2.1145e-02,  2.0995e-02,  1.0157e-01,  7.7877e-03,\n",
       "        -1.2240e-01,  2.0817e-02, -2.9684e-02,  1.9249e-02, -3.9490e-02,\n",
       "         4.1562e-02,  2.4613e-02,  2.7811e-02,  5.0698e-02, -9.0141e-03,\n",
       "         9.9597e-03,  9.4728e-03, -6.6050e-02,  6.1314e-02, -2.5690e-02,\n",
       "         1.3656e-01,  4.3282e-02,  1.0226e-01,  5.0857e-03,  6.5063e-02,\n",
       "         9.1076e-02,  6.8093e-02,  3.2773e-03,  1.9757e-02,  5.4957e-02,\n",
       "         2.6256e-02,  6.6885e-02, -2.4708e-02,  6.7381e-03,  8.5796e-03,\n",
       "        -1.3161e-02,  8.0055e-03, -1.0588e-01,  4.8203e-02,  1.9078e-03,\n",
       "         3.8427e-02, -1.2797e-02, -6.7581e-02, -2.1623e-02, -6.0916e-03,\n",
       "         7.2180e-02, -7.0609e-02, -2.2008e-02,  5.0028e-03,  7.0114e-02,\n",
       "         1.6763e-03, -1.1428e-02,  1.9628e-02,  1.2882e-01, -3.5451e-03,\n",
       "        -1.0609e-02, -9.6316e-02, -3.0487e-02, -2.2919e-02, -5.1464e-02,\n",
       "         6.2894e-02,  4.1206e-02,  7.1792e-02, -3.6905e-02, -8.5282e-02,\n",
       "         7.7732e-02,  5.6820e-02, -1.2167e-01, -5.0437e-33,  2.9038e-02,\n",
       "        -1.0255e-01,  1.5863e-02,  8.0727e-02,  2.3634e-02, -4.7329e-02,\n",
       "         1.0826e-01, -2.2400e-02, -2.5373e-02, -2.6617e-02, -9.0479e-03,\n",
       "        -6.7609e-02,  1.5119e-02,  2.5964e-02, -7.7629e-03,  9.2561e-02,\n",
       "         5.8375e-02,  1.1311e-01,  6.0842e-02, -2.6363e-02, -5.4016e-02,\n",
       "         2.7342e-02, -6.1726e-02,  7.3656e-02, -6.4808e-03,  3.7307e-02,\n",
       "         1.2352e-01,  6.4465e-02, -5.5735e-03, -9.0685e-02,  1.6421e-02,\n",
       "        -1.0396e-01,  9.9027e-03, -3.0993e-02, -5.3465e-02,  6.1906e-02,\n",
       "         1.4442e-02, -6.6810e-03,  2.4880e-02, -3.4150e-03, -3.5713e-02,\n",
       "        -1.1328e-02, -5.6003e-02,  6.3871e-03, -1.4273e-02,  7.1813e-03,\n",
       "        -4.0471e-02,  3.8980e-02, -4.9500e-03,  1.0463e-01,  2.6747e-02,\n",
       "        -3.7548e-02, -4.2894e-02, -3.2533e-02,  2.9402e-02,  4.2151e-02,\n",
       "        -3.2375e-03, -6.0564e-03,  1.5933e-02, -3.8691e-02, -4.6487e-02,\n",
       "        -1.8414e-03,  8.2351e-02,  9.1572e-03,  4.9560e-03,  3.1968e-02,\n",
       "        -2.4014e-03,  3.1275e-02,  4.4023e-03,  6.9986e-02, -4.1544e-02,\n",
       "        -2.3936e-02,  3.6474e-02, -2.5161e-02,  1.0754e-01,  8.5484e-03,\n",
       "         6.9715e-02, -6.5792e-02, -1.2361e-01,  1.6751e-02, -4.1990e-02,\n",
       "         2.2689e-02,  6.4083e-02,  1.7984e-02, -1.9174e-02,  5.4339e-03,\n",
       "         7.0254e-04,  3.0855e-02,  2.7729e-02,  3.6249e-02,  2.2473e-02,\n",
       "         1.5887e-02,  1.2514e-01,  7.3291e-02,  1.2798e-01, -3.9074e-08,\n",
       "         1.0726e-02, -1.2603e-01,  7.7600e-03,  7.3189e-02, -1.2460e-03,\n",
       "         1.9507e-02,  2.6819e-02, -1.3998e-01, -4.2074e-02, -6.0759e-02,\n",
       "        -5.1177e-03,  1.6688e-02, -4.1687e-02,  8.0815e-02, -8.2214e-02,\n",
       "        -5.8091e-02,  2.9278e-02, -4.0876e-03,  7.7358e-03,  3.2863e-03,\n",
       "        -4.7079e-02, -6.2893e-03,  5.8871e-02, -5.7678e-02,  5.9807e-02,\n",
       "         3.9708e-03, -1.0443e-02,  2.1196e-02, -3.2116e-03, -2.0648e-02,\n",
       "        -1.0277e-01,  2.4361e-02,  4.2585e-03, -1.4698e-02, -1.0126e-01,\n",
       "        -1.0495e-02, -5.7853e-02,  8.1405e-02, -4.8515e-02, -7.2297e-02,\n",
       "        -4.0892e-02, -1.0372e-02,  7.7595e-02, -2.6311e-02, -5.2389e-02,\n",
       "        -6.5342e-02, -1.3512e-01,  9.0035e-02,  1.4193e-03,  8.6720e-02,\n",
       "        -1.6298e-02,  4.7336e-02,  1.0867e-02, -2.1316e-02, -1.2721e-02,\n",
       "        -4.3650e-02, -2.8660e-02,  2.3681e-02,  5.9907e-02, -1.1660e-02,\n",
       "        -2.8111e-02,  3.3435e-02, -3.3876e-02, -8.1226e-02])"
      ]
     },
     "execution_count": 71,
     "metadata": {},
     "output_type": "execute_result"
    }
   ],
   "execution_count": 71
  },
  {
   "metadata": {
    "ExecuteTime": {
     "end_time": "2024-07-20T17:23:59.863868Z",
     "start_time": "2024-07-20T17:23:59.855861Z"
    }
   },
   "cell_type": "code",
   "source": "data_embedding = torch.cat(vectors, dim=1)",
   "id": "5b0deed9200faca9",
   "outputs": [],
   "execution_count": 51
  },
  {
   "metadata": {
    "ExecuteTime": {
     "end_time": "2024-07-20T17:24:00.423413Z",
     "start_time": "2024-07-20T17:24:00.410355Z"
    }
   },
   "cell_type": "code",
   "source": "data_embedding.shape",
   "id": "e85a0c2335e1b1fe",
   "outputs": [
    {
     "data": {
      "text/plain": [
       "torch.Size([10, 768])"
      ]
     },
     "execution_count": 52,
     "metadata": {},
     "output_type": "execute_result"
    }
   ],
   "execution_count": 52
  },
  {
   "metadata": {
    "ExecuteTime": {
     "end_time": "2024-07-20T17:36:41.808303Z",
     "start_time": "2024-07-20T17:36:40.911532Z"
    }
   },
   "cell_type": "code",
   "source": "vectors1 = [model.encode(data[col], device=device) for col in data.columns]",
   "id": "1c415fe3e480e87e",
   "outputs": [],
   "execution_count": 74
  },
  {
   "metadata": {
    "ExecuteTime": {
     "end_time": "2024-07-20T17:38:57.415430Z",
     "start_time": "2024-07-20T17:38:57.403175Z"
    }
   },
   "cell_type": "code",
   "source": [
    "import numpy as np\n",
    "\n",
    "res = np.concatenate(vectors1, axis=1)\n",
    "res.shape"
   ],
   "id": "8e00651e921649a2",
   "outputs": [
    {
     "data": {
      "text/plain": [
       "(10, 768)"
      ]
     },
     "execution_count": 78,
     "metadata": {},
     "output_type": "execute_result"
    }
   ],
   "execution_count": 78
  },
  {
   "metadata": {},
   "cell_type": "code",
   "outputs": [],
   "execution_count": null,
   "source": "",
   "id": "86aabd5231e722e7"
  }
 ],
 "metadata": {
  "kernelspec": {
   "display_name": "Python 3",
   "language": "python",
   "name": "python3"
  },
  "language_info": {
   "codemirror_mode": {
    "name": "ipython",
    "version": 2
   },
   "file_extension": ".py",
   "mimetype": "text/x-python",
   "name": "python",
   "nbconvert_exporter": "python",
   "pygments_lexer": "ipython2",
   "version": "2.7.6"
  }
 },
 "nbformat": 4,
 "nbformat_minor": 5
}
